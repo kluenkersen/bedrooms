{
 "cells": [
  {
   "cell_type": "code",
   "execution_count": 2,
   "metadata": {},
   "outputs": [],
   "source": [
    "from fastai.imports import *\n",
    "import torch\n",
    "from tqdm import *"
   ]
  },
  {
   "cell_type": "code",
   "execution_count": 3,
   "metadata": {},
   "outputs": [
    {
     "data": {
      "text/plain": [
       "_CudaDeviceProperties(name='Tesla K80', major=3, minor=7, total_memory=11441MB, multi_processor_count=13)"
      ]
     },
     "execution_count": 3,
     "metadata": {},
     "output_type": "execute_result"
    }
   ],
   "source": [
    "torch.cuda.get_device_properties(0)\n",
    "\n",
    "# torch.cuda.current_device()"
   ]
  },
  {
   "cell_type": "code",
   "execution_count": 4,
   "metadata": {},
   "outputs": [],
   "source": [
    "PATH = Path('data/lsun')\n",
    "IMG_PATH = PATH/'bedroom'\n",
    "CSV_PATH = PATH/'files.csv'\n",
    "TMP_PATH = PATH/'tmp'\n",
    "TMP_PATH.mkdir(exist_ok=True)"
   ]
  },
  {
   "cell_type": "code",
   "execution_count": 5,
   "metadata": {},
   "outputs": [],
   "source": [
    "# create files_sample.csv\n",
    "files = PATH.glob('bedroom/**/*.jpg')\n",
    "\n",
    "with CSV_PATH.open('w') as foo:\n",
    "    for f in files:\n",
    "        foo.write(f'{f.relative_to(IMG_PATH)},0\\n')\n",
    "\n",
    "CSV_PATH = PATH/'files_sample.csv'\n",
    "files = PATH.glob('bedroom/**/*.jpg')\n",
    "\n",
    "with CSV_PATH.open('w') as foo:\n",
    "    for f in files:\n",
    "        if random.random() < 0.1:\n",
    "            foo.write(f'{f.relative_to(IMG_PATH)},0\\n')"
   ]
  },
  {
   "cell_type": "code",
   "execution_count": 6,
   "metadata": {},
   "outputs": [],
   "source": [
    "def conv_layer(ni, nf, ks=3, stride=1, bn=True, pad=None):\n",
    "    \n",
    "    if pad is None:\n",
    "        pad = ks//2//stride\n",
    "    \n",
    "    if bn == False:\n",
    "        return nn.Sequential(\n",
    "            nn.Conv2d(in_channels=ni, out_channels=nf, kernel_size=ks, bias=False, stride=stride, padding=pad), \n",
    "            nn.LeakyReLU(negative_slope=0.2, inplace=True)\n",
    "        )\n",
    "    return nn.Sequential(\n",
    "            nn.Conv2d(in_channels=ni, out_channels=nf, kernel_size=ks, bias=False, stride=stride, padding=pad),\n",
    "            nn.BatchNorm2d(num_features=nf), \n",
    "            nn.LeakyReLU(negative_slope=0.2, inplace=True)\n",
    "        )\n",
    "\n"
   ]
  },
  {
   "cell_type": "code",
   "execution_count": 7,
   "metadata": {},
   "outputs": [],
   "source": [
    "class DCGAN_Discriminator(nn.Module):\n",
    "    def __init__(self, isize, ni, nf, n_extra_layers=0):\n",
    "        super().__init__()\n",
    "        assert isize % 16 == 0, 'isize must be a multiple of 16'\n",
    "        \n",
    "        # intial layer wiht stride 2 and follow up layers if needed\n",
    "        print(f'ni: {ni}')\n",
    "        print(f'nf: {nf}')\n",
    "        self.initial = conv_layer(ni, nf, ks=4, bn=False, stride=2)\n",
    "        csize = int(isize / 2)\n",
    "        cnf = nf\n",
    "        # a bit ugly\n",
    "        self.extra = []\n",
    "        self.extra = self.extra + [conv_layer(cnf, cnf, ks=4, stride=1) for t in range(n_extra_layers)]\n",
    "        self.extra = nn.Sequential(*self.extra)\n",
    "        \n",
    "        # until size > 4 create smaller layers aka a pyramide :P\n",
    "        pyr_layers = []\n",
    "        while csize > 4:\n",
    "            pyr_layers.append(conv_layer(cnf, cnf*2, ks=4, stride=2))\n",
    "            cnf = cnf * 2\n",
    "            csize = csize / 2\n",
    "        self.pyramid = nn.Sequential(*pyr_layers)\n",
    "        \n",
    "        # Final layer with kernal size of 4 and one output channel (1x4)\n",
    "        self.final = nn.Conv2d(cnf, 1, 4, stride=1, padding=0, bias=False)\n",
    "        \n",
    "    def forward(self, input):\n",
    "        x = self.initial(input)\n",
    "        x = self.extra(x)\n",
    "        x = self.pyramid(x)\n",
    "        x = self.final(x)\n",
    "        return x.mean(0).view(1)"
   ]
  },
  {
   "cell_type": "code",
   "execution_count": 8,
   "metadata": {},
   "outputs": [],
   "source": [
    "def decon_layer(ni, nf, ks=3, stride=1, pad=None):\n",
    "    return nn.Sequential(\n",
    "        nn.ConvTranspose2d(ni, nf, ks, stride, padding=pad, bias=False),\n",
    "        nn.BatchNorm2d(nf),\n",
    "        nn.LeakyReLU(inplace=True)\n",
    "    )"
   ]
  },
  {
   "cell_type": "code",
   "execution_count": 9,
   "metadata": {},
   "outputs": [],
   "source": [
    "class DCGAN_Generator(nn.Module):\n",
    "    def __init__(self, isize, nz, ni, nf, n_extra_layers=0):\n",
    "        super().__init__()\n",
    "        assert isize % 16 == 0, 'isize has to be a multiple of 16'\n",
    "        \n",
    "        cnf = int(nf // 2)\n",
    "        tisize = int(nf // 4)\n",
    "        while tisize != isize:\n",
    "            cnf = int(cnf * 2)\n",
    "            tisize = int(tisize * 2)\n",
    "        layers = [decon_layer(nz, cnf, 4, 1, 0)]\n",
    "        \n",
    "        csize = 4\n",
    "        while csize < isize//2:\n",
    "            layers.append(decon_layer(cnf, cnf//2, 4, 2, 1))\n",
    "            cnf = cnf // 2\n",
    "            csize = csize * 2\n",
    "            \n",
    "        layers = layers + [decon_layer(cnf, cnf, 3, 1, 1) for t in range(n_extra_layers)]\n",
    "        layers.append(nn.ConvTranspose2d(cnf, ni, 4, 2, 1, bias=False))\n",
    "        self.features = nn.Sequential(*layers)\n",
    "        \n",
    "    def forward(self, input):\n",
    "        return torch.tanh(self.features(input))"
   ]
  },
  {
   "cell_type": "code",
   "execution_count": 10,
   "metadata": {},
   "outputs": [],
   "source": [
    "class DCGAN_D(nn.Module):\n",
    "    def __init__(self, isize, nc, ndf, n_extra_layers=0):\n",
    "        super().__init__()\n",
    "        assert isize % 16 == 0, \"isize has to be a multiple of 16\"\n",
    "\n",
    "        self.initial = ConvBlock(nc, ndf, 4, 2, bn=False)\n",
    "        csize,cndf = isize/2,ndf\n",
    "        self.extra = nn.Sequential(*[ConvBlock(cndf, cndf, 3, 1)\n",
    "                                    for t in range(n_extra_layers)])\n",
    "\n",
    "        pyr_layers = []\n",
    "        while csize > 4:\n",
    "            pyr_layers.append(ConvBlock(cndf, cndf*2, 4, 2))\n",
    "            cndf *= 2; csize /= 2\n",
    "        self.pyramid = nn.Sequential(*pyr_layers)\n",
    "        \n",
    "        self.final = nn.Conv2d(cndf, 1, 4, padding=0, bias=False)\n",
    "\n",
    "    def forward(self, input):\n",
    "        x = self.initial(input)\n",
    "        x = self.extra(x)\n",
    "        x = self.pyramid(x)\n",
    "        return self.final(x).mean(0).view(1)"
   ]
  },
  {
   "cell_type": "code",
   "execution_count": 11,
   "metadata": {},
   "outputs": [],
   "source": [
    "class ConvBlock(nn.Module):\n",
    "    def __init__(self, ni, no, ks, stride, bn=True, pad=None):\n",
    "        super().__init__()\n",
    "        if pad is None: pad = ks//2//stride\n",
    "        self.conv = nn.Conv2d(ni, no, ks, stride, padding=pad, bias=False)\n",
    "        self.bn = nn.BatchNorm2d(no) if bn else None\n",
    "        self.relu = nn.LeakyReLU(0.2, inplace=True)\n",
    "    \n",
    "    def forward(self, x):\n",
    "        x = self.relu(self.conv(x))\n",
    "        return self.bn(x) if self.bn else x"
   ]
  },
  {
   "cell_type": "code",
   "execution_count": 12,
   "metadata": {},
   "outputs": [],
   "source": [
    "bs, nz, = 64, 100"
   ]
  },
  {
   "cell_type": "code",
   "execution_count": 13,
   "metadata": {},
   "outputs": [],
   "source": [
    "from fastai import *\n",
    "from fastai.vision import *"
   ]
  },
  {
   "cell_type": "code",
   "execution_count": 14,
   "metadata": {},
   "outputs": [],
   "source": [
    "tfms = get_transforms()\n",
    "# md = ImageDataBunch.from_csv(PATH/'bedroom', \n",
    "#                              label_col=False, \n",
    "#                              csv_labels='files_sample.csv',\n",
    "#                              bs=128, no_check=True,\n",
    "#                              ds_tfms=tfms)\n",
    "\n",
    "\n",
    "sz = 64 # our initial size will be 64*64\n",
    "data = (ImageItemList.from_csv(PATH/'bedroom', 'files_sample.csv')\n",
    "        .random_split_by_pct(0.2) # will split our data for us (train/valid) 20% of it will go into valid\n",
    "        .label_from_df(sep=' ')\n",
    "        .transform(tfms, size=sz)\n",
    "        .databunch().normalize(imagenet_stats)) "
   ]
  },
  {
   "cell_type": "code",
   "execution_count": 15,
   "metadata": {},
   "outputs": [
    {
     "data": {
      "text/plain": [
       "torch.Size([64, 3, 64, 64])"
      ]
     },
     "execution_count": 15,
     "metadata": {},
     "output_type": "execute_result"
    }
   ],
   "source": [
    "x,_ = next(iter(data.valid_dl))\n",
    "x.shape"
   ]
  },
  {
   "cell_type": "code",
   "execution_count": 16,
   "metadata": {
    "scrolled": true
   },
   "outputs": [
    {
     "data": {
      "image/png": "[encoded data removed]",
      "text/plain": [
       "<Figure size 576x576 with 4 Axes>"
      ]
     },
     "metadata": {},
     "output_type": "display_data"
    }
   ],
   "source": [
    "data.show_batch(rows=2)"
   ]
  },
  {
   "cell_type": "code",
   "execution_count": 18,
   "metadata": {},
   "outputs": [],
   "source": [
    "netG = DCGAN_Generator(isize=sz, nz=nz, ni=3, nf=sz, n_extra_layers=1).cuda()\n",
    "# netD = DCGAN_Discriminator(sz, 3, sz, 1).cuda()\n",
    "# netD = DCGAN_D(sz, 3, sz, n_extra_layers=1).cuda()"
   ]
  },
  {
   "cell_type": "code",
   "execution_count": 20,
   "metadata": {},
   "outputs": [
    {
     "data": {
      "text/plain": [
       "DCGAN_Generator(\n",
       "  (features): Sequential(\n",
       "    (0): Sequential(\n",
       "      (0): ConvTranspose2d(100, 128, kernel_size=(4, 4), stride=(1, 1), bias=False)\n",
       "      (1): BatchNorm2d(128, eps=1e-05, momentum=0.1, affine=True, track_running_stats=True)\n",
       "      (2): LeakyReLU(negative_slope=0.01, inplace)\n",
       "    )\n",
       "    (1): Sequential(\n",
       "      (0): ConvTranspose2d(128, 64, kernel_size=(4, 4), stride=(2, 2), padding=(1, 1), bias=False)\n",
       "      (1): BatchNorm2d(64, eps=1e-05, momentum=0.1, affine=True, track_running_stats=True)\n",
       "      (2): LeakyReLU(negative_slope=0.01, inplace)\n",
       "    )\n",
       "    (2): Sequential(\n",
       "      (0): ConvTranspose2d(64, 32, kernel_size=(4, 4), stride=(2, 2), padding=(1, 1), bias=False)\n",
       "      (1): BatchNorm2d(32, eps=1e-05, momentum=0.1, affine=True, track_running_stats=True)\n",
       "      (2): LeakyReLU(negative_slope=0.01, inplace)\n",
       "    )\n",
       "    (3): Sequential(\n",
       "      (0): ConvTranspose2d(32, 16, kernel_size=(4, 4), stride=(2, 2), padding=(1, 1), bias=False)\n",
       "      (1): BatchNorm2d(16, eps=1e-05, momentum=0.1, affine=True, track_running_stats=True)\n",
       "      (2): LeakyReLU(negative_slope=0.01, inplace)\n",
       "    )\n",
       "    (4): Sequential(\n",
       "      (0): ConvTranspose2d(16, 16, kernel_size=(3, 3), stride=(1, 1), padding=(1, 1), bias=False)\n",
       "      (1): BatchNorm2d(16, eps=1e-05, momentum=0.1, affine=True, track_running_stats=True)\n",
       "      (2): LeakyReLU(negative_slope=0.01, inplace)\n",
       "    )\n",
       "    (5): ConvTranspose2d(16, 3, kernel_size=(4, 4), stride=(2, 2), padding=(1, 1), bias=False)\n",
       "  )\n",
       ")"
      ]
     },
     "execution_count": 20,
     "metadata": {},
     "output_type": "execute_result"
    }
   ],
   "source": [
    "netG"
   ]
  },
  {
   "cell_type": "code",
   "execution_count": 20,
   "metadata": {},
   "outputs": [
    {
     "name": "stdout",
     "output_type": "stream",
     "text": [
      "True\n",
      "True\n"
     ]
    }
   ],
   "source": [
    "# check if models are on cuda\n",
    "print(next(netG.parameters()).is_cuda)\n",
    "print(next(netD.parameters()).is_cuda)"
   ]
  },
  {
   "cell_type": "code",
   "execution_count": 21,
   "metadata": {},
   "outputs": [],
   "source": [
    "from torchsummary import summary\n",
    "from torchvision import models"
   ]
  },
  {
   "cell_type": "code",
   "execution_count": 22,
   "metadata": {},
   "outputs": [],
   "source": [
    "# summary(netD, (64,4, 4))"
   ]
  },
  {
   "cell_type": "code",
   "execution_count": 23,
   "metadata": {},
   "outputs": [],
   "source": [
    "from torch.autograd import Variable\n",
    "\n",
    "def create_variable(x, volatile, requires_grad=False):\n",
    "    if not isinstance(x, Variable):\n",
    "        x = Variable(T(x), volatile=volatile, requires_grad=requires_grad)\n",
    "    return x\n",
    "\n",
    "def V_(x, requires_grad=False, volatile=False):\n",
    "    return create_variable(x, volatile=volatile, requires_grad=requires_grad)\n",
    "def V(x, requires_grad=False, volatile=False):\n",
    "    return [V_(o, requires_grad=requires_grad, volatile=volatile)\n",
    "            for o in x] if isinstance(x,(list,tuple)) else V_(x, requires_grad=requires_grad, volatile=volatile)"
   ]
  },
  {
   "cell_type": "code",
   "execution_count": 24,
   "metadata": {},
   "outputs": [],
   "source": [
    "def create_noise(b): return V(torch.zeros(b, nz, 1, 1).normal_(0, 1)).cuda()"
   ]
  },
  {
   "cell_type": "code",
   "execution_count": 25,
   "metadata": {},
   "outputs": [],
   "source": [
    "# preds = netG(create_noise(4))\n",
    "# pred_ims = data.denorm(preds)\n",
    "\n",
    "# fig, axes = plt.subplots(2, 2, figsize=(6, 6))\n",
    "# for i,ax in enumerate(axes.flat): ax.imshow(pred_ims[i])\n",
    "# plt.imshow(pred_ims[0][0])"
   ]
  },
  {
   "cell_type": "code",
   "execution_count": 26,
   "metadata": {},
   "outputs": [],
   "source": [
    "optimizerD = optim.SGD(netD.parameters(), lr = 1e-4)\n",
    "optimizerG = optim.Adam(netG.parameters(), lr = 1e-4)"
   ]
  },
  {
   "cell_type": "code",
   "execution_count": 36,
   "metadata": {},
   "outputs": [],
   "source": [
    "def set_trainable_attr(m,b):\n",
    "    m.trainable=b\n",
    "    for p in m.parameters(): p.requires_grad=b\n",
    "\n",
    "def set_trainable(l, b):\n",
    "    apply_leaf(l, lambda m: set_trainable_attr(m,b))"
   ]
  },
  {
   "cell_type": "code",
   "execution_count": 37,
   "metadata": {},
   "outputs": [],
   "source": [
    "def train(niter, first=True):\n",
    "    gen_iterations = 0\n",
    "    for epoch in range(niter):\n",
    "        netD.train()\n",
    "        netG.train()\n",
    "        data_iter = iter(data.train_dl)\n",
    "        i = 0\n",
    "        n = len(data.train_dl)\n",
    "        \n",
    "        with tqdm(total=n) as pbar:\n",
    "            while i < n:\n",
    "                set_trainable(netD, True)\n",
    "                set_trainable(netG, False)\n",
    "\n",
    "                d_iters = 100 if (first and (gen_iterations < 25) or (gen_iterations % 500 == 0)) else 5\n",
    "                j = 0\n",
    "                \n",
    "                while (j < d_iters) and (i < n):\n",
    "                    j += 1; i += 1\n",
    "                    for p in netD.parameters(): p.data.clamp_(-0.01, 0.01)\n",
    "                    \n",
    "                    real = V(next(data_iter)[0])\n",
    "                    real_loss = netD(real)\n",
    "                    \n",
    "                    fake = netG(create_noise(real.size(0)))\n",
    "                    fake_loss = netD(V(fake.data))\n",
    "                    \n",
    "                    netD.zero_grad()\n",
    "                    lossD = real_loss-fake_loss\n",
    "                    lossD.backward()\n",
    "                    optimizerD.step()\n",
    "                    pbar.update()\n",
    "\n",
    "                set_trainable(netD, False)\n",
    "                set_trainable(netG, True)\n",
    "                netG.zero_grad()\n",
    "                lossG = netD(netG(create_noise(bs))).mean(0).view(1)\n",
    "                lossG.backward()\n",
    "                optimizerG.step()\n",
    "                gen_iterations += 1\n",
    "            \n",
    "        print(f'Loss_D {to_np(lossD)}; Loss_G {to_np(lossG)}; '\n",
    "              f'D_real {to_np(real_loss)}; Loss_D_fake {to_np(fake_loss)}')"
   ]
  },
  {
   "cell_type": "code",
   "execution_count": 38,
   "metadata": {},
   "outputs": [
    {
     "name": "stderr",
     "output_type": "stream",
     "text": [
      "100%|██████████| 381/381 [04:01<00:00,  5.10it/s]\n"
     ]
    },
    {
     "name": "stdout",
     "output_type": "stream",
     "text": [
      "Loss_D [-0.000286]; Loss_G [-0.000222]; D_real [-0.000462]; Loss_D_fake [-0.000177]\n"
     ]
    }
   ],
   "source": [
    "train(1, True)"
   ]
  },
  {
   "cell_type": "code",
   "execution_count": null,
   "metadata": {},
   "outputs": [
    {
     "name": "stderr",
     "output_type": "stream",
     "text": [
      "100%|██████████| 381/381 [01:02<00:00,  5.99it/s]\n",
      "  0%|          | 0/381 [00:00<?, ?it/s]"
     ]
    },
    {
     "name": "stdout",
     "output_type": "stream",
     "text": [
      "Loss_D [0.00048]; Loss_G [-0.000564]; D_real [-8.312961e-05]; Loss_D_fake [-0.000563]\n"
     ]
    },
    {
     "name": "stderr",
     "output_type": "stream",
     "text": [
      "100%|██████████| 381/381 [01:02<00:00,  6.06it/s]\n",
      "  0%|          | 0/381 [00:00<?, ?it/s]"
     ]
    },
    {
     "name": "stdout",
     "output_type": "stream",
     "text": [
      "Loss_D [0.000447]; Loss_G [-0.00053]; D_real [-7.924755e-05]; Loss_D_fake [-0.000526]\n"
     ]
    },
    {
     "name": "stderr",
     "output_type": "stream",
     "text": [
      "100%|██████████| 381/381 [01:03<00:00,  6.01it/s]\n",
      "  0%|          | 0/381 [00:00<?, ?it/s]"
     ]
    },
    {
     "name": "stdout",
     "output_type": "stream",
     "text": [
      "Loss_D [0.00043]; Loss_G [-0.000499]; D_real [-7.249301e-05]; Loss_D_fake [-0.000502]\n"
     ]
    },
    {
     "name": "stderr",
     "output_type": "stream",
     "text": [
      "100%|██████████| 381/381 [01:02<00:00,  6.06it/s]\n",
      "  0%|          | 0/381 [00:00<?, ?it/s]"
     ]
    },
    {
     "name": "stdout",
     "output_type": "stream",
     "text": [
      "Loss_D [0.00041]; Loss_G [-0.000467]; D_real [-5.900943e-05]; Loss_D_fake [-0.000469]\n"
     ]
    },
    {
     "name": "stderr",
     "output_type": "stream",
     "text": [
      "100%|██████████| 381/381 [01:02<00:00,  6.05it/s]\n",
      "  0%|          | 0/381 [00:00<?, ?it/s]"
     ]
    },
    {
     "name": "stdout",
     "output_type": "stream",
     "text": [
      "Loss_D [0.000391]; Loss_G [-0.000445]; D_real [-5.714678e-05]; Loss_D_fake [-0.000448]\n"
     ]
    },
    {
     "name": "stderr",
     "output_type": "stream",
     "text": [
      "100%|██████████| 381/381 [01:03<00:00,  6.02it/s]\n",
      "  0%|          | 0/381 [00:00<?, ?it/s]"
     ]
    },
    {
     "name": "stdout",
     "output_type": "stream",
     "text": [
      "Loss_D [0.000373]; Loss_G [-0.00043]; D_real [-5.934068e-05]; Loss_D_fake [-0.000432]\n"
     ]
    },
    {
     "name": "stderr",
     "output_type": "stream",
     "text": [
      "100%|██████████| 381/381 [01:02<00:00,  7.01it/s]\n",
      "  0%|          | 0/381 [00:00<?, ?it/s]"
     ]
    },
    {
     "name": "stdout",
     "output_type": "stream",
     "text": [
      "Loss_D [0.000335]; Loss_G [-0.000406]; D_real [-7.061941e-05]; Loss_D_fake [-0.000405]\n"
     ]
    },
    {
     "name": "stderr",
     "output_type": "stream",
     "text": [
      "100%|██████████| 381/381 [01:02<00:00,  5.98it/s]\n",
      "  0%|          | 0/381 [00:00<?, ?it/s]"
     ]
    },
    {
     "name": "stdout",
     "output_type": "stream",
     "text": [
      "Loss_D [0.000324]; Loss_G [-0.000393]; D_real [-6.820865e-05]; Loss_D_fake [-0.000392]\n"
     ]
    },
    {
     "name": "stderr",
     "output_type": "stream",
     "text": [
      "100%|██████████| 381/381 [01:03<00:00,  6.07it/s]\n",
      "  0%|          | 0/381 [00:00<?, ?it/s]"
     ]
    },
    {
     "name": "stdout",
     "output_type": "stream",
     "text": [
      "Loss_D [0.000304]; Loss_G [-0.000377]; D_real [-7.229186e-05]; Loss_D_fake [-0.000376]\n"
     ]
    },
    {
     "name": "stderr",
     "output_type": "stream",
     "text": [
      "100%|██████████| 381/381 [01:02<00:00,  6.02it/s]\n",
      "  0%|          | 0/381 [00:00<?, ?it/s]"
     ]
    },
    {
     "name": "stdout",
     "output_type": "stream",
     "text": [
      "Loss_D [0.00029]; Loss_G [-0.000358]; D_real [-6.832551e-05]; Loss_D_fake [-0.000359]\n"
     ]
    },
    {
     "name": "stderr",
     "output_type": "stream",
     "text": [
      "100%|██████████| 381/381 [01:04<00:00,  6.00it/s]\n",
      "  0%|          | 0/381 [00:00<?, ?it/s]"
     ]
    },
    {
     "name": "stdout",
     "output_type": "stream",
     "text": [
      "Loss_D [0.000276]; Loss_G [-0.000339]; D_real [-6.133667e-05]; Loss_D_fake [-0.000338]\n"
     ]
    },
    {
     "name": "stderr",
     "output_type": "stream",
     "text": [
      "100%|██████████| 381/381 [01:02<00:00,  6.02it/s]\n",
      "  0%|          | 0/381 [00:00<?, ?it/s]"
     ]
    },
    {
     "name": "stdout",
     "output_type": "stream",
     "text": [
      "Loss_D [0.000264]; Loss_G [-0.000323]; D_real [-5.844811e-05]; Loss_D_fake [-0.000322]\n"
     ]
    },
    {
     "name": "stderr",
     "output_type": "stream",
     "text": [
      "100%|██████████| 381/381 [01:02<00:00,  6.08it/s]\n",
      "  0%|          | 0/381 [00:00<?, ?it/s]"
     ]
    },
    {
     "name": "stdout",
     "output_type": "stream",
     "text": [
      "Loss_D [0.000249]; Loss_G [-0.000306]; D_real [-5.697667e-05]; Loss_D_fake [-0.000306]\n"
     ]
    },
    {
     "name": "stderr",
     "output_type": "stream",
     "text": [
      "100%|██████████| 381/381 [01:02<00:00,  6.08it/s]\n",
      "  0%|          | 0/381 [00:00<?, ?it/s]"
     ]
    },
    {
     "name": "stdout",
     "output_type": "stream",
     "text": [
      "Loss_D [0.000229]; Loss_G [-0.000291]; D_real [-6.1422e-05]; Loss_D_fake [-0.00029]\n"
     ]
    },
    {
     "name": "stderr",
     "output_type": "stream",
     "text": [
      "100%|██████████| 381/381 [01:02<00:00,  6.03it/s]\n",
      "  0%|          | 0/381 [00:00<?, ?it/s]"
     ]
    },
    {
     "name": "stdout",
     "output_type": "stream",
     "text": [
      "Loss_D [0.000218]; Loss_G [-0.000277]; D_real [-6.021987e-05]; Loss_D_fake [-0.000278]\n"
     ]
    },
    {
     "name": "stderr",
     "output_type": "stream",
     "text": [
      "100%|██████████| 381/381 [01:02<00:00,  6.08it/s]\n",
      "  0%|          | 0/381 [00:00<?, ?it/s]"
     ]
    },
    {
     "name": "stdout",
     "output_type": "stream",
     "text": [
      "Loss_D [0.000206]; Loss_G [-0.000266]; D_real [-5.940438e-05]; Loss_D_fake [-0.000266]\n"
     ]
    },
    {
     "name": "stderr",
     "output_type": "stream",
     "text": [
      "100%|██████████| 381/381 [01:03<00:00,  6.02it/s]\n",
      "  0%|          | 0/381 [00:00<?, ?it/s]"
     ]
    },
    {
     "name": "stdout",
     "output_type": "stream",
     "text": [
      "Loss_D [0.000194]; Loss_G [-0.000254]; D_real [-6.035698e-05]; Loss_D_fake [-0.000254]\n"
     ]
    },
    {
     "name": "stderr",
     "output_type": "stream",
     "text": [
      "100%|██████████| 381/381 [01:02<00:00,  6.01it/s]\n",
      "  0%|          | 0/381 [00:00<?, ?it/s]"
     ]
    },
    {
     "name": "stdout",
     "output_type": "stream",
     "text": [
      "Loss_D [5.103721e-05]; Loss_G [-0.000106]; D_real [-5.485884e-05]; Loss_D_fake [-0.000106]\n"
     ]
    },
    {
     "name": "stderr",
     "output_type": "stream",
     "text": [
      "100%|██████████| 381/381 [01:02<00:00,  6.02it/s]\n",
      "  0%|          | 0/381 [00:00<?, ?it/s]"
     ]
    },
    {
     "name": "stdout",
     "output_type": "stream",
     "text": [
      "Loss_D [4.898747e-05]; Loss_G [-0.000104]; D_real [-5.473357e-05]; Loss_D_fake [-0.000104]\n"
     ]
    },
    {
     "name": "stderr",
     "output_type": "stream",
     "text": [
      "100%|██████████| 381/381 [01:03<00:00,  6.03it/s]\n",
      "  0%|          | 0/381 [00:00<?, ?it/s]"
     ]
    },
    {
     "name": "stdout",
     "output_type": "stream",
     "text": [
      "Loss_D [4.651296e-05]; Loss_G [-0.000102]; D_real [-5.498292e-05]; Loss_D_fake [-0.000101]\n"
     ]
    },
    {
     "name": "stderr",
     "output_type": "stream",
     "text": [
      "100%|██████████| 381/381 [01:02<00:00,  6.89it/s]\n",
      "  0%|          | 0/381 [00:00<?, ?it/s]"
     ]
    },
    {
     "name": "stdout",
     "output_type": "stream",
     "text": [
      "Loss_D [4.514965e-05]; Loss_G [-9.956313e-05]; D_real [-5.43444e-05]; Loss_D_fake [-9.949404e-05]\n"
     ]
    },
    {
     "name": "stderr",
     "output_type": "stream",
     "text": [
      "100%|██████████| 381/381 [01:02<00:00,  6.04it/s]\n",
      "  0%|          | 0/381 [00:00<?, ?it/s]"
     ]
    },
    {
     "name": "stdout",
     "output_type": "stream",
     "text": [
      "Loss_D [-4.712929e-07]; Loss_G [-5.409624e-05]; D_real [-5.457672e-05]; Loss_D_fake [-5.410543e-05]\n"
     ]
    },
    {
     "name": "stderr",
     "output_type": "stream",
     "text": [
      "100%|██████████| 381/381 [01:03<00:00,  5.97it/s]\n",
      "  0%|          | 0/381 [00:00<?, ?it/s]"
     ]
    },
    {
     "name": "stdout",
     "output_type": "stream",
     "text": [
      "Loss_D [-2.701199e-07]; Loss_G [-5.427573e-05]; D_real [-5.452542e-05]; Loss_D_fake [-5.42553e-05]\n"
     ]
    },
    {
     "name": "stderr",
     "output_type": "stream",
     "text": [
      " 13%|█▎        | 51/381 [00:08<00:57,  5.70it/s]"
     ]
    }
   ],
   "source": [
    "train(600, False)"
   ]
  },
  {
   "cell_type": "code",
   "execution_count": null,
   "metadata": {},
   "outputs": [],
   "source": [
    "pba"
   ]
  },
  {
   "cell_type": "code",
   "execution_count": 40,
   "metadata": {},
   "outputs": [],
   "source": [
    "def gallery(x, nc=3):\n",
    "    n,h,w,c = x.shape\n",
    "    nr = n//nc\n",
    "    assert n == nr*nc\n",
    "    return (x.reshape(nr, nc, h, w, c)\n",
    "              .swapaxes(1,2)\n",
    "              .reshape(h*nr, w*nc, c))"
   ]
  },
  {
   "cell_type": "code",
   "execution_count": 57,
   "metadata": {},
   "outputs": [
    {
     "data": {
      "text/plain": [
       "<Figure size 648x648 with 0 Axes>"
      ]
     },
     "execution_count": 57,
     "metadata": {},
     "output_type": "execute_result"
    },
    {
     "data": {
      "text/plain": [
       "<Figure size 648x648 with 0 Axes>"
      ]
     },
     "metadata": {},
     "output_type": "display_data"
    }
   ],
   "source": [
    "fixed_noise = create_noise(bs)\n",
    "netD.eval()\n",
    "netG.eval()\n",
    "fake = netG(fixed_noise).data.cpu()\n",
    "faked = np.clip(data.denorm(fake),0,1)\n",
    "\n",
    "plt.figure(figsize=(9,9))\n",
    "# plt.imshow(gallery(faked, 8));\n"
   ]
  },
  {
   "cell_type": "code",
   "execution_count": 58,
   "metadata": {},
   "outputs": [
    {
     "data": {
      "text/plain": [
       "<matplotlib.image.AxesImage at 0x7fab56829128>"
      ]
     },
     "execution_count": 58,
     "metadata": {},
     "output_type": "execute_result"
    },
    {
     "data": {
      "image/png": "[encoded data removed]",
      "text/plain": [
       "<Figure size 432x288 with 1 Axes>"
      ]
     },
     "metadata": {},
     "output_type": "display_data"
    }
   ],
   "source": [
    "rolled = np.rollaxis(np.array(faked[0]), 0, 3)\n",
    "rolled.shape\n",
    "plt.imshow(rolled)\n",
    "# plt.imshow(faked[0].shape)"
   ]
  },
  {
   "cell_type": "code",
   "execution_count": null,
   "metadata": {},
   "outputs": [],
   "source": []
  },
  {
   "cell_type": "code",
   "execution_count": null,
   "metadata": {},
   "outputs": [],
   "source": []
  }
 ],
 "metadata": {
  "kernelspec": {
   "display_name": "conda_pytorch_p36",
   "language": "python",
   "name": "conda_pytorch_p36"
  },
  "language_info": {
   "codemirror_mode": {
    "name": "ipython",
    "version": 3
   },
   "file_extension": ".py",
   "mimetype": "text/x-python",
   "name": "python",
   "nbconvert_exporter": "python",
   "pygments_lexer": "ipython3",
   "version": "3.6.5"
  }
 },
 "nbformat": 4,
 "nbformat_minor": 2
}
